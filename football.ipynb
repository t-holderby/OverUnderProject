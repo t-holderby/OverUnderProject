{
 "cells": [
  {
   "cell_type": "markdown",
   "metadata": {},
   "source": []
  },
  {
   "cell_type": "markdown",
   "metadata": {},
   "source": []
  },
  {
   "cell_type": "code",
   "execution_count": 1,
   "metadata": {
    "scrolled": true
   },
   "outputs": [],
   "source": [
    "## for data\n",
    "import pandas as pd\n",
    "import numpy as np\n",
    "from numpy import cov\n",
    "\n",
    "## for plotting\n",
    "import matplotlib.pyplot as plt\n",
    "import seaborn as sns\n",
    "\n",
    "## for statistical tests\n",
    "import scipy\n",
    "import statsmodels.formula.api as smf\n",
    "import statsmodels.api as sm\n",
    "import statistics\n",
    "from scipy.stats import pearsonr\n",
    "import math\n",
    "\n",
    "## for machine learning\n",
    "import sklearn\n",
    "from sklearn import preprocessing, svm\n",
    "from sklearn.model_selection import cross_validate\n",
    "from sklearn.model_selection import train_test_split\n",
    "from sklearn.linear_model import LinearRegression\n",
    "\n",
    "import string\n"
   ]
  },
  {
   "cell_type": "markdown",
   "metadata": {},
   "source": [
    "Here is my data imported via pandas:"
   ]
  },
  {
   "cell_type": "code",
   "execution_count": 2,
   "metadata": {},
   "outputs": [],
   "source": [
    "df = pd.read_csv('fdata.csv', encoding = \"ISO-8859-1\")\n",
    "\n",
    "\n",
    "#This is the complete list of games from the 2020 NFL season. I am going to clean up the data here in this notebook before \n",
    "#reassembling it into a df."
   ]
  },
  {
   "cell_type": "code",
   "execution_count": 3,
   "metadata": {},
   "outputs": [],
   "source": [
    "def PointTotals(lst):\n",
    "    point_totals = []\n",
    "    for i in lst:\n",
    "        total_score = int(i[0:2]) + int(i[3:5])\n",
    "        point_totals.append(total_score)\n",
    "    return point_totals\n",
    "    \n",
    "point_total = PointTotals(df['score'])\n",
    "\n",
    "#This function adds the point totals together for all of the games, giving us the total score. One flaw with this is that I had\n",
    "#to go through the excel file and make sure every score had two values i.e. \"09\" instead of \"9\""
   ]
  },
  {
   "cell_type": "code",
   "execution_count": 4,
   "metadata": {},
   "outputs": [],
   "source": [
    "\n",
    "def CleanUp_TeamNames(lst):\n",
    "    letters = string.ascii_lowercase\n",
    "    new_list = []\n",
    "    \n",
    "    for word in lst:\n",
    "        new_word = ''\n",
    "        for character in word:\n",
    "            if character.lower() in letters:\n",
    "                new_word += character\n",
    "            else:\n",
    "                break \n",
    "        new_list.append(new_word)\n",
    "   \n",
    "    return new_list\n",
    "                        \n",
    "        \n",
    "Team1New = CleanUp_TeamNames(df['team 1'])\n",
    "Team2New = CleanUp_TeamNames(df['team 2'])\n",
    "             \n",
    "#This function cleans up the team names so that the data from the website gets trimmed down to just the actual team name\n",
    "\n",
    "\n",
    "       \n",
    "        \n",
    "    "
   ]
  },
  {
   "cell_type": "code",
   "execution_count": 5,
   "metadata": {},
   "outputs": [],
   "source": [
    "week_list = df['week number']"
   ]
  },
  {
   "cell_type": "code",
   "execution_count": 6,
   "metadata": {},
   "outputs": [],
   "source": [
    "#in the block below I am going to try and make a function that takes a file name as an input and returns a df with the averages\n",
    "#for the stats I want by week"
   ]
  },
  {
   "cell_type": "code",
   "execution_count": 7,
   "metadata": {},
   "outputs": [],
   "source": [
    "def AveragedDataFrame(file_name):\n",
    "    \n",
    "    working_df = pd.read_csv(file_name, encoding = \"ISO-8859-1\")\n",
    "    \n",
    "    new_df = pd.DataFrame(index = working_df.loc[1:, 'Week'] )\n",
    "    \n",
    "    #this is the function to get the averages for the columns so that each week is matched up with the averages of all the stats\n",
    "    #from the previous weeks \n",
    "    def GetTheAverages(column_name):\n",
    "        averaged_list = []\n",
    "        total = 0\n",
    "        count = 0\n",
    "        for item in column_name[1:]:\n",
    "            total += column_name[count]\n",
    "            count += 1\n",
    "            average = total/count\n",
    "            averaged_list.append(average)\n",
    "        return averaged_list\n",
    "  \n",
    "    \n",
    "    TmList = GetTheAverages(working_df['Tm'])\n",
    "    OpList = GetTheAverages(working_df['Opp'])\n",
    "    D1List = GetTheAverages(working_df['D1'])\n",
    "    TYList = GetTheAverages(working_df['TY'])\n",
    "    PYList = GetTheAverages(working_df['PY'])\n",
    "    RYList = GetTheAverages(working_df['RY'])\n",
    "    D1AList = GetTheAverages(working_df['D1A'])\n",
    "    TYAList = GetTheAverages(working_df['TYA'])\n",
    "    PYAList = GetTheAverages(working_df['PYA'])\n",
    "    RYAList = GetTheAverages(working_df['RYA'])\n",
    "    OXPList = GetTheAverages(working_df['OXP'])\n",
    "    DXPList = GetTheAverages(working_df['DXP'])\n",
    "    STXPList = GetTheAverages(working_df['STXP'])\n",
    "    NameList = [file_name[0:-8] for i in range(0,len(TmList))] #this creats a series filled with the name of the team, \n",
    "                                                                #so that I can reference it in a for loop later on\n",
    "    \n",
    "    \n",
    "    #new_df['Week'] = working_df.loc[1:, 'Week']\n",
    "    new_df['AveragedTm'] = TmList\n",
    "    new_df['AveragedOp'] = OpList      \n",
    "    new_df['AveragedD1'] = D1List       \n",
    "    new_df['AveragedTY'] = TYList       \n",
    "    new_df['AveragedPY'] = PYList   \n",
    "    new_df['AveragedRY'] = RYList\n",
    "    new_df['AveragedD1A'] = D1AList\n",
    "    new_df['AveragedTYA'] = TYAList\n",
    "    new_df['AveragedPYA'] = PYAList\n",
    "    new_df['AveragedRYA'] = RYAList\n",
    "    new_df['AveragedOXP'] = OXPList        \n",
    "    new_df['AveragedDXP'] = DXPList        \n",
    "    new_df['AveragedSTXP'] = STXPList   \n",
    "    new_df['Team Name'] = NameList\n",
    "\n",
    "\n",
    "\n",
    "    return new_df\n",
    "   \n",
    "    \n",
    "    \n",
    "    \n",
    "    \n",
    "    \n",
    "    "
   ]
  },
  {
   "cell_type": "code",
   "execution_count": null,
   "metadata": {},
   "outputs": [],
   "source": []
  },
  {
   "cell_type": "code",
   "execution_count": 21,
   "metadata": {
    "scrolled": true
   },
   "outputs": [],
   "source": [
    "Bills = AveragedDataFrame('bills2020.csv')\n",
    "Broncos = AveragedDataFrame('broncos2020.csv')\n",
    "Chargers = AveragedDataFrame('chargers2020.csv')\n",
    "Raiders = AveragedDataFrame('raiders2020.csv')\n",
    "Chiefs = AveragedDataFrame('chiefs2020.csv')\n",
    "Jaguars = AveragedDataFrame('jaguars2020.csv')\n",
    "Texans = AveragedDataFrame('texans2020.csv')\n",
    "Colts = AveragedDataFrame('colts2020.csv')\n",
    "Titans = AveragedDataFrame('titans2020.csv')\n",
    "Bengals = AveragedDataFrame('bengals2020.csv')\n",
    "Ravens = AveragedDataFrame('ravens2020.csv')\n",
    "Browns = AveragedDataFrame('browns2020.csv')\n",
    "Steelers = AveragedDataFrame('steelers2020.csv')\n",
    "Patriots = AveragedDataFrame('patriots2020.csv')\n",
    "Dolphins = AveragedDataFrame('dolphins2020.csv')\n",
    "Panthers = AveragedDataFrame('panthers2020.csv')\n",
    "Saints = AveragedDataFrame('saints2020.csv')\n",
    "Vikings = AveragedDataFrame('vikings2020.csv')\n",
    "Fortyniners = AveragedDataFrame('fortyniners2020.csv')\n",
    "Cardinals = AveragedDataFrame('cardinals2020.csv')\n",
    "Rams = AveragedDataFrame('rams2020.csv')\n",
    "Seahawks = AveragedDataFrame('seahawks2020.csv')\n",
    "Falcons = AveragedDataFrame('falcons2020.csv')\n",
    "Buccaneers = AveragedDataFrame('buccaneers2020.csv')\n",
    "Lions = AveragedDataFrame('lions2020.csv')\n",
    "Bears = AveragedDataFrame('bears2020.csv')\n",
    "Packers = AveragedDataFrame('packers2020.csv')\n",
    "Eagles = AveragedDataFrame('eagles2020.csv')\n",
    "Giants = AveragedDataFrame('giants2020.csv')\n",
    "Redskins = AveragedDataFrame('redskins2020.csv')\n",
    "Cowboys = AveragedDataFrame('cowboys2020.csv')\n",
    "Jets = AveragedDataFrame('jets2020.csv')\n",
    "\n",
    "    \n",
    "\n",
    "\n",
    "list_of_dataframes = [Bills, Broncos, Chargers, Raiders, Chiefs, Jaguars, Texans, \n",
    "                      Colts, Titans, Bengals, Ravens, Browns, Steelers, Patriots, Dolphins, \n",
    "                      Panthers, Saints, Vikings, Fortyniners, Cardinals, Rams, Seahawks,\n",
    "                     Falcons, Buccaneers, Lions, Bears, Packers, Eagles, Giants, Redskins,\n",
    "                     Cowboys, Jets]"
   ]
  },
  {
   "cell_type": "code",
   "execution_count": 22,
   "metadata": {
    "scrolled": true
   },
   "outputs": [],
   "source": [
    "def BuildOut(column_name, team_list):\n",
    "    lst = [] #the list getting built out that will become the column in the new df\n",
    "    \n",
    "    name = column_name[:-3] #This is so the column name from the master_df matches the column names for the individual dfs\n",
    "    week_row_counter = 0 #this is what I use to ensure that I move on to a consecutive row in the week_list\n",
    "    \n",
    "    \n",
    "    for week_number in week_list: #going through each week first (there are multiples of the same week to account for each game\n",
    "                                    # that was held during that week, i.e. 2 appears however many times there were games in week 2)\n",
    "        \n",
    "        for i in team_list[week_row_counter:]: #this just starts the search through the team list at the corresponding row to the\n",
    "                                               #that played in that week\n",
    "            for df in list_of_dataframes:\n",
    "                \n",
    "                value = df.at[2, 'Team Name'] #this is just creating a name to match for in the team_list for loop with something\n",
    "                                              #in the dataframe \n",
    "                \n",
    "                \n",
    "                if i.lower() == value:\n",
    "                    \n",
    "                    adjusted_wvalue = week_number + 2 #had to do this to \n",
    "                    \n",
    "                    number2 = df.index.get_loc(adjusted_wvalue) #supposed to return the index location of the week that we are on\n",
    "                                                                # in the week_number for loop\n",
    "                    \n",
    "                    value2 = df.at[number2, name] #this is using the index location pulled by the the previous line to find the\n",
    "                                                  #correct week and column for the value I want to add to the list\n",
    "                    lst.append(value2)\n",
    "                    \n",
    "                    week_row_counter += 1 #this adds to the week counter so that the for loop through the team_list knows to skip\n",
    "                                          #the teams info we just added. If I didnt add this, the whole loop would just add the \n",
    "                                          #first team's info over and over\n",
    "                    \n",
    "                    \n",
    "                else:\n",
    "                    continue\n",
    "               \n",
    "                    \n",
    "                    \n",
    "               \n",
    "                break\n",
    "            break\n",
    "            \n",
    "            \n",
    "                \n",
    "            \n",
    "                \n",
    "            \n",
    "           \n",
    "    return lst\n",
    "          \n"
   ]
  },
  {
   "cell_type": "code",
   "execution_count": 23,
   "metadata": {},
   "outputs": [
    {
     "ename": "KeyError",
     "evalue": "4",
     "output_type": "error",
     "traceback": [
      "\u001b[1;31m---------------------------------------------------------------------------\u001b[0m",
      "\u001b[1;31mKeyError\u001b[0m                                  Traceback (most recent call last)",
      "\u001b[1;32m~\\Anaconda3\\lib\\site-packages\\pandas\\core\\indexes\\base.py\u001b[0m in \u001b[0;36mget_loc\u001b[1;34m(self, key, method, tolerance)\u001b[0m\n\u001b[0;32m   2894\u001b[0m             \u001b[1;32mtry\u001b[0m\u001b[1;33m:\u001b[0m\u001b[1;33m\u001b[0m\u001b[1;33m\u001b[0m\u001b[0m\n\u001b[1;32m-> 2895\u001b[1;33m                 \u001b[1;32mreturn\u001b[0m \u001b[0mself\u001b[0m\u001b[1;33m.\u001b[0m\u001b[0m_engine\u001b[0m\u001b[1;33m.\u001b[0m\u001b[0mget_loc\u001b[0m\u001b[1;33m(\u001b[0m\u001b[0mcasted_key\u001b[0m\u001b[1;33m)\u001b[0m\u001b[1;33m\u001b[0m\u001b[1;33m\u001b[0m\u001b[0m\n\u001b[0m\u001b[0;32m   2896\u001b[0m             \u001b[1;32mexcept\u001b[0m \u001b[0mKeyError\u001b[0m \u001b[1;32mas\u001b[0m \u001b[0merr\u001b[0m\u001b[1;33m:\u001b[0m\u001b[1;33m\u001b[0m\u001b[1;33m\u001b[0m\u001b[0m\n",
      "\u001b[1;32mpandas\\_libs\\index.pyx\u001b[0m in \u001b[0;36mpandas._libs.index.IndexEngine.get_loc\u001b[1;34m()\u001b[0m\n",
      "\u001b[1;32mpandas\\_libs\\index.pyx\u001b[0m in \u001b[0;36mpandas._libs.index.IndexEngine.get_loc\u001b[1;34m()\u001b[0m\n",
      "\u001b[1;32mpandas\\_libs\\hashtable_class_helper.pxi\u001b[0m in \u001b[0;36mpandas._libs.hashtable.Int64HashTable.get_item\u001b[1;34m()\u001b[0m\n",
      "\u001b[1;32mpandas\\_libs\\hashtable_class_helper.pxi\u001b[0m in \u001b[0;36mpandas._libs.hashtable.Int64HashTable.get_item\u001b[1;34m()\u001b[0m\n",
      "\u001b[1;31mKeyError\u001b[0m: 4",
      "\nThe above exception was the direct cause of the following exception:\n",
      "\u001b[1;31mKeyError\u001b[0m                                  Traceback (most recent call last)",
      "\u001b[1;32m<ipython-input-23-87653ddbdb9d>\u001b[0m in \u001b[0;36m<module>\u001b[1;34m\u001b[0m\n\u001b[0;32m      5\u001b[0m \u001b[1;31m#master_df['Team 2'] = Team2New\u001b[0m\u001b[1;33m\u001b[0m\u001b[1;33m\u001b[0m\u001b[1;33m\u001b[0m\u001b[0m\n\u001b[0;32m      6\u001b[0m \u001b[1;31m#master_df['Week'] = week_list\u001b[0m\u001b[1;33m\u001b[0m\u001b[1;33m\u001b[0m\u001b[1;33m\u001b[0m\u001b[0m\n\u001b[1;32m----> 7\u001b[1;33m \u001b[0mmaster_df\u001b[0m\u001b[1;33m[\u001b[0m\u001b[1;34m'AveragedTm T1'\u001b[0m\u001b[1;33m]\u001b[0m \u001b[1;33m=\u001b[0m \u001b[0mBuildOut\u001b[0m\u001b[1;33m(\u001b[0m\u001b[1;34m'AveragedTm T1'\u001b[0m\u001b[1;33m,\u001b[0m \u001b[0mTeam1New\u001b[0m\u001b[1;33m)\u001b[0m\u001b[1;33m\u001b[0m\u001b[1;33m\u001b[0m\u001b[0m\n\u001b[0m\u001b[0;32m      8\u001b[0m \u001b[0mmaster_df\u001b[0m\u001b[1;33m[\u001b[0m\u001b[1;34m'AveragedOp T1'\u001b[0m\u001b[1;33m]\u001b[0m \u001b[1;33m=\u001b[0m \u001b[0mBuildOut\u001b[0m\u001b[1;33m(\u001b[0m\u001b[1;34m'AveragedOp T1'\u001b[0m\u001b[1;33m,\u001b[0m \u001b[0mTeam1New\u001b[0m\u001b[1;33m)\u001b[0m\u001b[1;33m\u001b[0m\u001b[1;33m\u001b[0m\u001b[0m\n\u001b[0;32m      9\u001b[0m \u001b[0mmaster_df\u001b[0m\u001b[1;33m[\u001b[0m\u001b[1;34m'AveragedD1 T1'\u001b[0m\u001b[1;33m]\u001b[0m \u001b[1;33m=\u001b[0m  \u001b[0mBuildOut\u001b[0m\u001b[1;33m(\u001b[0m\u001b[1;34m'AveragedD1 T1'\u001b[0m\u001b[1;33m,\u001b[0m \u001b[0mTeam1New\u001b[0m\u001b[1;33m)\u001b[0m\u001b[1;33m\u001b[0m\u001b[1;33m\u001b[0m\u001b[0m\n",
      "\u001b[1;32m<ipython-input-22-5814bc5bd901>\u001b[0m in \u001b[0;36mBuildOut\u001b[1;34m(column_name, team_list)\u001b[0m\n\u001b[0;32m     21\u001b[0m                     \u001b[0madjusted_wvalue\u001b[0m \u001b[1;33m=\u001b[0m \u001b[0mweek_number\u001b[0m \u001b[1;33m+\u001b[0m \u001b[1;36m2\u001b[0m \u001b[1;31m#had to do this to\u001b[0m\u001b[1;33m\u001b[0m\u001b[1;33m\u001b[0m\u001b[0m\n\u001b[0;32m     22\u001b[0m \u001b[1;33m\u001b[0m\u001b[0m\n\u001b[1;32m---> 23\u001b[1;33m                     \u001b[0mnumber2\u001b[0m \u001b[1;33m=\u001b[0m \u001b[0mdf\u001b[0m\u001b[1;33m.\u001b[0m\u001b[0mindex\u001b[0m\u001b[1;33m.\u001b[0m\u001b[0mget_loc\u001b[0m\u001b[1;33m(\u001b[0m\u001b[0madjusted_wvalue\u001b[0m\u001b[1;33m)\u001b[0m \u001b[1;31m#supposed to return the index location of the week that we are on\u001b[0m\u001b[1;33m\u001b[0m\u001b[1;33m\u001b[0m\u001b[0m\n\u001b[0m\u001b[0;32m     24\u001b[0m                                                                 \u001b[1;31m# in the week_number for loop\u001b[0m\u001b[1;33m\u001b[0m\u001b[1;33m\u001b[0m\u001b[1;33m\u001b[0m\u001b[0m\n\u001b[0;32m     25\u001b[0m \u001b[1;33m\u001b[0m\u001b[0m\n",
      "\u001b[1;32m~\\Anaconda3\\lib\\site-packages\\pandas\\core\\indexes\\base.py\u001b[0m in \u001b[0;36mget_loc\u001b[1;34m(self, key, method, tolerance)\u001b[0m\n\u001b[0;32m   2895\u001b[0m                 \u001b[1;32mreturn\u001b[0m \u001b[0mself\u001b[0m\u001b[1;33m.\u001b[0m\u001b[0m_engine\u001b[0m\u001b[1;33m.\u001b[0m\u001b[0mget_loc\u001b[0m\u001b[1;33m(\u001b[0m\u001b[0mcasted_key\u001b[0m\u001b[1;33m)\u001b[0m\u001b[1;33m\u001b[0m\u001b[1;33m\u001b[0m\u001b[0m\n\u001b[0;32m   2896\u001b[0m             \u001b[1;32mexcept\u001b[0m \u001b[0mKeyError\u001b[0m \u001b[1;32mas\u001b[0m \u001b[0merr\u001b[0m\u001b[1;33m:\u001b[0m\u001b[1;33m\u001b[0m\u001b[1;33m\u001b[0m\u001b[0m\n\u001b[1;32m-> 2897\u001b[1;33m                 \u001b[1;32mraise\u001b[0m \u001b[0mKeyError\u001b[0m\u001b[1;33m(\u001b[0m\u001b[0mkey\u001b[0m\u001b[1;33m)\u001b[0m \u001b[1;32mfrom\u001b[0m \u001b[0merr\u001b[0m\u001b[1;33m\u001b[0m\u001b[1;33m\u001b[0m\u001b[0m\n\u001b[0m\u001b[0;32m   2898\u001b[0m \u001b[1;33m\u001b[0m\u001b[0m\n\u001b[0;32m   2899\u001b[0m         \u001b[1;32mif\u001b[0m \u001b[0mtolerance\u001b[0m \u001b[1;32mis\u001b[0m \u001b[1;32mnot\u001b[0m \u001b[1;32mNone\u001b[0m\u001b[1;33m:\u001b[0m\u001b[1;33m\u001b[0m\u001b[1;33m\u001b[0m\u001b[0m\n",
      "\u001b[1;31mKeyError\u001b[0m: 4"
     ]
    }
   ],
   "source": [
    "master_df = pd.DataFrame()\n",
    "\n",
    "#master_df['Total Scores'] = point_total\n",
    "#master_df['Team 1'] = Team1New\n",
    "#master_df['Team 2'] = Team2New\n",
    "#master_df['Week'] = week_list\n",
    "master_df['AveragedTm T1'] = BuildOut('AveragedTm T1', Team1New)\n",
    "master_df['AveragedOp T1'] = BuildOut('AveragedOp T1', Team1New)   \n",
    "master_df['AveragedD1 T1'] =  BuildOut('AveragedD1 T1', Team1New)     \n",
    "master_df['AveragedTY T1'] =  BuildOut('AveragedTY T1', Team1New) \n",
    "master_df['AveragedPY T1'] =  BuildOut('AveragedPY T1', Team1New)\n",
    "master_df['AveragedRY T1'] = BuildOut('AveragedRY T1', Team1New)\n",
    "master_df['AveragedD1A T1'] = BuildOut('AveragedD1A T1', Team1New)\n",
    "master_df['AveragedTYA T1'] = BuildOut('AveragedTYA T1', Team1New)\n",
    "master_df['AveragedPYA T1'] = BuildOut('AveragedPYA T1', Team1New)\n",
    "master_df['AveragedRYA T1'] = BuildOut('AveragedRYA T1', Team1New)\n",
    "master_df['AveragedOXP T1'] = BuildOut('AveragedOXP T1', Team1New) \n",
    "master_df['AveragedDXP T1'] = BuildOut('AveragedDXP T1', Team1New) \n",
    "master_df['AveragedSTXP T1'] = BuildOut('AveragedSTXP T1', Team1New) \n",
    "#master_df['AveragedTm T2'] = BuildOut('AveragedTm T2', Team2New)\n",
    "#master_df['AveragedOp T2'] = BuildOut('AveragedOp T2', Team2New)   \n",
    "#master_df['AveragedD1 T2'] = BuildOut('AveragedD1 T2', Team2New)      \n",
    "#master_df['AveragedTY T2'] = BuildOut('AveragedTY T2', Team2New) \n",
    "#master_df['AveragedPY T2'] = BuildOut('AveragedPY T2', Team2New)\n",
    "#master_df['AveragedRY T2'] = BuildOut('AveragedRY T2', Team2New)\n",
    "#master_df['AveragedD1A T2'] = BuildOut('AveragedD1A T2', Team2New)\n",
    "#master_df['AveragedTYA T2'] = BuildOut('AveragedTYA T2', Team2New)\n",
    "#master_df['AveragedPYA T2'] = BuildOut('AveragedPYA T2', Team2New)\n",
    "#master_df['AveragedRYA T2'] = BuildOut('AveragedRYA T2', Team2New)\n",
    "#master_df['AveragedOXP T2'] = BuildOut('AveragedOXP T2', Team2New)     \n",
    "#master_df['AveragedDXP T2'] = BuildOut('AveragedDXP T2', Team2New)    \n",
    "#master_df['AveragedSTXP T2'] = BuildOut('AveragedSTXP T2', Team2New)\n",
    "\n"
   ]
  },
  {
   "cell_type": "code",
   "execution_count": null,
   "metadata": {},
   "outputs": [],
   "source": [
    "print(master_df)"
   ]
  },
  {
   "cell_type": "code",
   "execution_count": 27,
   "metadata": {},
   "outputs": [
    {
     "name": "stdout",
     "output_type": "stream",
     "text": [
      "4\n"
     ]
    }
   ],
   "source": []
  },
  {
   "cell_type": "code",
   "execution_count": null,
   "metadata": {},
   "outputs": [],
   "source": []
  },
  {
   "cell_type": "code",
   "execution_count": null,
   "metadata": {},
   "outputs": [],
   "source": []
  }
 ],
 "metadata": {
  "kernelspec": {
   "display_name": "Python 3",
   "language": "python",
   "name": "python3"
  },
  "language_info": {
   "codemirror_mode": {
    "name": "ipython",
    "version": 3
   },
   "file_extension": ".py",
   "mimetype": "text/x-python",
   "name": "python",
   "nbconvert_exporter": "python",
   "pygments_lexer": "ipython3",
   "version": "3.8.5"
  }
 },
 "nbformat": 4,
 "nbformat_minor": 4
}
